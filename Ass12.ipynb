{
 "cells": [
  {
   "cell_type": "markdown",
   "id": "0d95f246-60c5-4c33-9c00-2e5a9730d79b",
   "metadata": {},
   "source": [
    "Q1. What is a database? Differentiate between SQL and NoSQL databases.\n",
    "\n",
    "Ans. A database is an organized collection of structured information, or data, typically stored electronically in a computer system. A database is usually controlled by a database management system (DBMS).\n",
    "\n",
    "\n",
    "SQL databases are relational, and NoSQL databases are non-relational. SQL databases use structured query language (SQL) and have a predefined schema. NoSQL databases have dynamic schemas for unstructured data. SQL databases are vertically scalable, while NoSQL databases are horizontally scalable."
   ]
  },
  {
   "cell_type": "code",
   "execution_count": null,
   "id": "3df9db02-3e66-47e5-818c-e3c60c8ef444",
   "metadata": {},
   "outputs": [],
   "source": []
  },
  {
   "cell_type": "markdown",
   "id": "08098517-8c6b-4ef0-9ccf-d26a49e075b1",
   "metadata": {},
   "source": [
    "Q2. What is DDL? Explain why CREATE, DROP, ALTER, and TRUNCATE are used with an example.\n",
    "\n",
    "Ans. Data Definition Language (DDL) is a subset of SQL. It is a language for describing data and its relationships in a database. You can generate DDL in a script for database objects to: Keep a snapshot of the database structure. Set up a test system where the database acts like the production system but contains no data.\n",
    "\n",
    "CREATE -> The CREATE PROCEDURE command is used to create a stored procedure. A stored procedure is a prepared SQL code that you can save, so the code can be reused over and over again.\n",
    "\n",
    "DROP -> Drop command in SQL can be clubbed with other keywords to delete specific database entities. For example, the DROP TABLE command is used to delete a table, and the DROP COLUMN command is used to delete a column in a table.\n",
    "\n",
    "ALTER -> Suppose we want to add a foreign key constraint to create a relationship between two tables; we can also do that with the help of the ALTER command in SQL. Here's an example to add a foreign key in the Salary table for the E_ID column that refers to the E_ID column of the Employees table.\n",
    "\n",
    "TRUNCATE -> The TRUNCATE command is used to remove all of the rows from a table, regardless of whether or not any conditions are met and resets the table definition. It is a DDL(Data Definition Language) command. It is also a DDL(Data Definition Language) command. The table space is completely freed from the memory."
   ]
  },
  {
   "cell_type": "code",
   "execution_count": 9,
   "id": "f39058db-448e-4534-a372-83c5b173c5a1",
   "metadata": {},
   "outputs": [
    {
     "ename": "SyntaxError",
     "evalue": "invalid syntax (165320157.py, line 1)",
     "output_type": "error",
     "traceback": [
      "\u001b[0;36m  Cell \u001b[0;32mIn[9], line 1\u001b[0;36m\u001b[0m\n\u001b[0;31m    CREATE TABLE Persons (\u001b[0m\n\u001b[0m           ^\u001b[0m\n\u001b[0;31mSyntaxError\u001b[0m\u001b[0;31m:\u001b[0m invalid syntax\n"
     ]
    }
   ],
   "source": [
    "CREATE TABLE Persons (\n",
    "    PersonID int,\n",
    "    LastName varchar(255),\n",
    "    FirstName varchar(255),\n",
    "    Address varchar(255),\n",
    "    City varchar(255)\n",
    ")\n"
   ]
  },
  {
   "cell_type": "code",
   "execution_count": null,
   "id": "fadcdc15-0112-4261-a5e6-69eaf97240e1",
   "metadata": {},
   "outputs": [],
   "source": [
    "-- delete Shippings table\n",
    "DROP TABLE Shippings;"
   ]
  },
  {
   "cell_type": "code",
   "execution_count": null,
   "id": "7221861a-ac98-40ba-98ca-6959d0579a27",
   "metadata": {},
   "outputs": [],
   "source": [
    "-- add phone column to Customers table\n",
    "ALTER TABLE Customers\n",
    "ADD phone varchar(10);"
   ]
  },
  {
   "cell_type": "code",
   "execution_count": null,
   "id": "72334381-d1e1-4dea-850c-afa3ab45c193",
   "metadata": {},
   "outputs": [],
   "source": [
    "- truncate a table\n",
    "TRUNCATE TABLE Persons;\n",
    "\n",
    "-- retrieve the number of rows in the table\n",
    "SELECT COUNT(*) AS rows_after_table_truncate\n",
    "FROM Persons;"
   ]
  },
  {
   "cell_type": "code",
   "execution_count": null,
   "id": "7228e4c2-acd2-4f20-a872-0b3322f95108",
   "metadata": {},
   "outputs": [],
   "source": []
  },
  {
   "cell_type": "markdown",
   "id": "ddc34006-ef2f-4ed9-a659-52e7f4e684e3",
   "metadata": {},
   "source": [
    "Q3. What is DML? Explain INSERT, UPDATE, and DELETE with an example.\n",
    "\n",
    "Ans. A data manipulation language (DML) is a family of computer languages including commands permitting users to manipulate data in a database. This manipulation involves inserting data into database tables, retrieving existing data, deleting data from existing tables and modifying existing data. DML is mostly incorporated in SQL databases.\n",
    "\n",
    "INSERT -> A normal insert statement may be implemented in two forms: INSERT INTO table_name VALUES (val1, val2, val3…).\n",
    "An example is: INSERT INTO Employee VALUES (1, John, 23); INSERT INTO table_name (column1, column2) VALUES (val1, val2, val3…).\n",
    "\n",
    "UPDATE -> The UPDATE statement in SQL is used to update the data of an existing table in the database. We can update single columns as well as multiple columns using the UPDATE statement as per our requirement.\n",
    "Example - Update a textbook; update the files. To bring up to date; make conform to or aware of the most recent facts, methods, ideas, etc.\n",
    "\n",
    "DELETE -> Delete command is a data manipulation command which is used to remove records from a table. All records may be removed in one go, or a set of records may be deleted based on a condition\n"
   ]
  },
  {
   "cell_type": "code",
   "execution_count": null,
   "id": "b61de381-0be4-45f7-a4b1-c182dcb115f6",
   "metadata": {},
   "outputs": [],
   "source": []
  },
  {
   "cell_type": "markdown",
   "id": "7d356d51-f4e3-4601-9a0b-19674ad3cb23",
   "metadata": {},
   "source": [
    "Q4. What is DQL? Explain SELECT with an example.\n",
    "\n",
    "Ans.We can define DQL as follows it is a component of SQL statement that allows getting data from the database and imposing order upon it. It includes the SELECT statement. This command allows getting the data out of the database to perform operations with it.\n",
    "\n",
    "Select command is used to fetch the data in a set of records from a table, view or a group of tables, views by making use of SQL joins. The simplest example of a select statement where in a user wants to, retrieve all the records of a table, can be performed by using '*'.\n",
    "\n",
    "Example - Given a table T, the query SELECT * FROM T will result in all the elements of all the rows of the table being shown. With the same table, the query SELECT C1 FROM T will result in the elements from the column C1 of all the rows of the table being shown."
   ]
  },
  {
   "cell_type": "code",
   "execution_count": null,
   "id": "3956f73e-8324-44f5-8c85-c0268d7431d4",
   "metadata": {},
   "outputs": [],
   "source": []
  },
  {
   "cell_type": "markdown",
   "id": "da0dfdaf-9f6c-4d61-be3f-1c5b75aa2c64",
   "metadata": {},
   "source": [
    "Q5. Explain Primary Key and Foreign Key.\n",
    "\n",
    "Ans. A primary key is used to ensure data in the specific column is unique. A foreign key is a column or group of columns in a relational database table that provides a link between data in two tables."
   ]
  },
  {
   "cell_type": "code",
   "execution_count": null,
   "id": "1b172ce1-1e34-4900-9e76-4163524fa465",
   "metadata": {},
   "outputs": [],
   "source": []
  },
  {
   "cell_type": "markdown",
   "id": "10570250-933e-4347-8df8-3bbe2b8eb16f",
   "metadata": {},
   "source": [
    "Q6. Write a python code to connect MySQL to python. Explain the cursor() and execute() method."
   ]
  },
  {
   "cell_type": "code",
   "execution_count": 11,
   "id": "7eb9e194-5e11-4884-b289-b3861ffdce4e",
   "metadata": {},
   "outputs": [
    {
     "ename": "SyntaxError",
     "evalue": "invalid syntax (671368711.py, line 1)",
     "output_type": "error",
     "traceback": [
      "\u001b[0;36m  Cell \u001b[0;32mIn[11], line 1\u001b[0;36m\u001b[0m\n\u001b[0;31m    import mysql.connector.\u001b[0m\n\u001b[0m                           ^\u001b[0m\n\u001b[0;31mSyntaxError\u001b[0m\u001b[0;31m:\u001b[0m invalid syntax\n"
     ]
    }
   ],
   "source": [
    "import mysql.connector.\n",
    "#Create the connection object.\n",
    "myconn = mysql.connector.connect(host = \"localhost\", user = \"root\",passwd = \"google\", database = \"mydb\")\n",
    "#printing the connection object.\n",
    "print(myconn)\n",
    "#creating the cursor object.\n",
    "cur = myconn.cursor()\n",
    "print(cur)\n"
   ]
  },
  {
   "cell_type": "markdown",
   "id": "3a1dc865-0858-4ed4-99d8-3c9b5d7e6c5d",
   "metadata": {},
   "source": [
    "cursor() method: they are bound to the connection for the entire lifetime and all the commands are executed in the context of the database session wrapped by the connection.\n",
    "\n",
    "The Execute method executes the query, SQL statement or procedure specified in the CommandText property of the Command object. The results are stored in a new Recordset object if it is a row-returning query. A closed Recordset object will be returned if it is not a row-returning query."
   ]
  },
  {
   "cell_type": "code",
   "execution_count": null,
   "id": "0fa2cb19-6b30-4c7d-a1f7-0124cafe84af",
   "metadata": {},
   "outputs": [],
   "source": []
  },
  {
   "cell_type": "markdown",
   "id": "70154e65-0170-4207-9c59-0d3e7e7f4ece",
   "metadata": {},
   "source": [
    "Q7. Give the order of execution of SQL clauses in an SQL query.\n",
    "\n",
    "Ans. SQL query execution order means optimizing our search results from the database or where the query clauses are evaluated according to the requirements.\n",
    "\n",
    "Like how we plan something step by step and reach the final result, similarly, we use clauses in a particular order known as the SQL query execution order. Here is the table that shows the order in which the clauses are used.\n",
    "\n",
    "1   FROM\t\n",
    "2\tWHERE\t\n",
    "3\tGROUP BY\t\n",
    "4\tHAVING\t\n",
    "6\tORDER BY\t\n",
    "7\tLIMIT"
   ]
  }
 ],
 "metadata": {
  "kernelspec": {
   "display_name": "Python 3 (ipykernel)",
   "language": "python",
   "name": "python3"
  },
  "language_info": {
   "codemirror_mode": {
    "name": "ipython",
    "version": 3
   },
   "file_extension": ".py",
   "mimetype": "text/x-python",
   "name": "python",
   "nbconvert_exporter": "python",
   "pygments_lexer": "ipython3",
   "version": "3.10.8"
  }
 },
 "nbformat": 4,
 "nbformat_minor": 5
}
